{
 "cells": [
  {
   "cell_type": "code",
   "execution_count": 2,
   "metadata": {},
   "outputs": [],
   "source": [
    "import mysql.connector\n",
    "from mysql.connector import errorcode\n",
    "import pymysql.cursors\n",
    "from sqlalchemy import *\n",
    "import pandas as pd"
   ]
  },
  {
   "cell_type": "code",
   "execution_count": 14,
   "metadata": {},
   "outputs": [],
   "source": [
    "def conecta_db():\n",
    "    connection = pymysql.connect(\"mysql+pymysql://<root>:<root>@<localhost>/<datasus>\")\n",
    "    return connection\n",
    "    #with connection:\n",
    "        #with connection.cursor() as cursor:# Create a new record\n",
    "            #sql = \"INSERT INTO `users` (`email`, `password`) VALUES (%s, %s)\"\n",
    "            #cursor.execute(sql, ('webmaster@python.org', 'very-secret'))\n",
    "        # connection is not autocommit by default. So you must commit to save your changes.\n",
    "        #connection.commit()\n",
    "        #with connection.cursor() as cursor:# Read a single record\n",
    "            #sql = \"SELECT `id`, `password` FROM `users` WHERE `email`=%s\"\n",
    "            #cursor.execute(sql, ('webmaster@python.org',))\n",
    "            #result = cursor.fetchone()\n",
    "            #print(result)"
   ]
  },
  {
   "cell_type": "code",
   "execution_count": 9,
   "metadata": {},
   "outputs": [],
   "source": [
    "def table_mysql(query,cnx):\n",
    "    try:cursor = cnx.cursor()\n",
    "    except:print(\"Erro definindo cursor\");return\n",
    "    \n",
    "    database = 'DATASUS'\n",
    "    cursor.execute(\"USE {}\".format(database))\n",
    "    cursor.execute('SELECT * FROM {}'.format(query))\n",
    "\n",
    "    return cursor.fetchall()"
   ]
  },
  {
   "cell_type": "code",
   "execution_count": 10,
   "metadata": {},
   "outputs": [
    {
     "name": "stdout",
     "output_type": "stream",
     "text": [
      "Conectado em localhost:3306, usuario: root\n"
     ]
    }
   ],
   "source": [
    "cnx = conecta_db()\n",
    "\n",
    "df_RDPR = pd.DataFrame(table_mysql(\"RDPR WHERE CNES = '2384299'\",cnx))\n",
    "df_SPPR = pd.DataFrame(table_mysql(\"SPPR WHERE SP_CNES = '2384299'\",cnx))"
   ]
  },
  {
   "cell_type": "code",
   "execution_count": 11,
   "metadata": {},
   "outputs": [
    {
     "name": "stdout",
     "output_type": "stream",
     "text": [
      "      0     1   2   3               4              5   6         7       8    \\\n",
      "0  410690  2021  01  01  75095679000220  4121100197379   1  80310170  410690   \n",
      "1  410690  2021  01  01  75095679000220  4121100197401   1  82310220  410690   \n",
      "2  410690  2021  01  01  75095679000220  4121100197445   1  83570970  410520   \n",
      "3  410690  2021  01  01  75095679000220  4121100197478   1  81850110  410690   \n",
      "4  410690  2021  01  01  75095679000220  4121100197632   1  80320310  410690   \n",
      "5  410690  2021  01  01  75095679000220  4121100197676   1  84264300  412710   \n",
      "6  410690  2021  01  01  75095679000220  4121100082638   1  80060150  410690   \n",
      "7  410690  2021  01  01  75095679000220  4121100082650   1  80060150  410690   \n",
      "8  410690  2021  01  01  75095679000220  4121100086686   1  83324380  411915   \n",
      "9  410690  2021  01  01  75095679000220  4121100109225   1  81330210  410690   \n",
      "\n",
      "        9    ... 103  104  105  106  107 108  109  110  111  112  \n",
      "0  19970331  ...        0    0    0    0   0    0    0    0    0  \n",
      "1  19561205  ...        0    0    0    0   0    0    0    0    0  \n",
      "2  20020311  ...        0    0    0    0   0    0    0    0    0  \n",
      "3  19550630  ...        0    0    0    0   0    0    0    0    0  \n",
      "4  20160506  ...        0    0    0    0   0    0    0    0    0  \n",
      "5  19960323  ...        0    0    0    0   0    0    0    0    0  \n",
      "6  19730411  ...        1    0    0    0   0    0    0    0    0  \n",
      "7  19730411  ...        1    0    0    0   0    0    0    0    0  \n",
      "8  19700622  ...        0    0    0    0   0    0    0    0    0  \n",
      "9  19900208  ...        0    0    0    0   0    0    0    0    0  \n",
      "\n",
      "[10 rows x 113 columns]\n"
     ]
    }
   ],
   "source": [
    "print(df_RDPR.head(10))"
   ]
  },
  {
   "cell_type": "code",
   "execution_count": null,
   "metadata": {},
   "outputs": [],
   "source": []
  },
  {
   "cell_type": "code",
   "execution_count": null,
   "metadata": {},
   "outputs": [],
   "source": [
    "cursor.close()\n",
    "cnx.close()"
   ]
  }
 ],
 "metadata": {
  "interpreter": {
   "hash": "c528af50699d7bf999894b4e1dd42316023b6caa07f72aa84975f8a1ca2f3abe"
  },
  "kernelspec": {
   "display_name": "Python 3.9.9 64-bit (windows store)",
   "language": "python",
   "name": "python3"
  },
  "language_info": {
   "codemirror_mode": {
    "name": "ipython",
    "version": 3
   },
   "file_extension": ".py",
   "mimetype": "text/x-python",
   "name": "python",
   "nbconvert_exporter": "python",
   "pygments_lexer": "ipython3",
   "version": "3.9.10"
  },
  "orig_nbformat": 4
 },
 "nbformat": 4,
 "nbformat_minor": 2
}
